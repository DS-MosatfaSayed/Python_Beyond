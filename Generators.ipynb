{
 "cells": [
  {
   "cell_type": "markdown",
   "id": "28c5cb5c",
   "metadata": {},
   "source": [
    "#### Python today supports procrastination much more than it did in the past—it provides tools that produce results only when needed, instead of all at once.\n",
    "\n",
    "• Generator functions are coded as normal def statements but use yield statements to return results one at a time, suspending and resuming their state between each.\n",
    "\n",
    "• Generator expressions are similar to the list comprehensions of the prior section, but they return an object that produces results on demand instead of building a result list."
   ]
  },
  {
   "cell_type": "code",
   "execution_count": 27,
   "id": "215ddfee",
   "metadata": {},
   "outputs": [
    {
     "name": "stdout",
     "output_type": "stream",
     "text": [
      "1\n",
      "2\n",
      "3\n",
      "4\n"
     ]
    },
    {
     "ename": "StopIteration",
     "evalue": "",
     "output_type": "error",
     "traceback": [
      "\u001b[0;31m---------------------------------------------------------------------------\u001b[0m",
      "\u001b[0;31mStopIteration\u001b[0m                             Traceback (most recent call last)",
      "Input \u001b[0;32mIn [27]\u001b[0m, in \u001b[0;36m<cell line: 16>\u001b[0;34m()\u001b[0m\n\u001b[1;32m     14\u001b[0m \u001b[38;5;28mprint\u001b[39m(\u001b[38;5;28mnext\u001b[39m(my_gen))\n\u001b[1;32m     15\u001b[0m \u001b[38;5;28mprint\u001b[39m(\u001b[38;5;28mnext\u001b[39m(my_gen))\n\u001b[0;32m---> 16\u001b[0m \u001b[38;5;28mprint\u001b[39m(\u001b[38;5;28;43mnext\u001b[39;49m\u001b[43m(\u001b[49m\u001b[43mmy_gen\u001b[49m\u001b[43m)\u001b[49m)\n",
      "\u001b[0;31mStopIteration\u001b[0m: "
     ]
    }
   ],
   "source": [
    "# simple genrator function\n",
    "\n",
    "def simple_gen():\n",
    "    \n",
    "    yield 1      # appears on first function call\n",
    "    yield 2       # appears on second function call\n",
    "    yield 3        # appears on third function call\n",
    "    yield 4         # appears on fourth function call\n",
    "    \n",
    "my_gen = simple_gen()\n",
    "\n",
    "print(next(my_gen))\n",
    "print(next(my_gen))\n",
    "print(next(my_gen))\n",
    "print(next(my_gen))\n",
    "print(next(my_gen))"
   ]
  },
  {
   "cell_type": "markdown",
   "id": "5e3e6373",
   "metadata": {},
   "source": [
    "## The main advantage of generators:\n",
    "### State Suspension:\n",
    "- Unlike normal functions that return a value and exit, generator functions automatically suspend and resume their execution and state around the point of value generation.\n",
    "\n",
    "\n",
    "### memeory and Performance:\n",
    "\n",
    "let's take a simple problem, we have to generate squares of some numbers, we can do this using:\n",
    "\n",
    "    - foor loop\n",
    "    - map\n",
    "    - enerators\n"
   ]
  },
  {
   "cell_type": "code",
   "execution_count": 33,
   "id": "90a40f32",
   "metadata": {},
   "outputs": [],
   "source": [
    "numbers = [*range(10000)]\n",
    "\n",
    "def build_squares(number):\n",
    "    return number ** 2\n",
    "    "
   ]
  },
  {
   "cell_type": "code",
   "execution_count": 48,
   "id": "ced4eef0",
   "metadata": {},
   "outputs": [
    {
     "name": "stdout",
     "output_type": "stream",
     "text": [
      "2.31 ms ± 17.2 µs per loop (mean ± std. dev. of 7 runs, 100 loops each)\n"
     ]
    }
   ],
   "source": [
    "%%timeit \n",
    "\n",
    "## using the for loop\n",
    "\n",
    "\n",
    "for i in numbers:\n",
    "    build_squares(i)"
   ]
  },
  {
   "cell_type": "code",
   "execution_count": 52,
   "id": "def9570d",
   "metadata": {},
   "outputs": [
    {
     "name": "stdout",
     "output_type": "stream",
     "text": [
      "98.6 ns ± 0.755 ns per loop (mean ± std. dev. of 7 runs, 10,000,000 loops each)\n"
     ]
    }
   ],
   "source": [
    "%%timeit\n",
    "\n",
    "map(build_squares, numbers)"
   ]
  },
  {
   "cell_type": "code",
   "execution_count": 53,
   "id": "f3868308",
   "metadata": {},
   "outputs": [],
   "source": [
    "def gen_squares(numbers):\n",
    "    for i in range(numbers):\n",
    "        yield i ** 2"
   ]
  },
  {
   "cell_type": "code",
   "execution_count": 54,
   "id": "4a9ccce4",
   "metadata": {
    "scrolled": true
   },
   "outputs": [
    {
     "name": "stdout",
     "output_type": "stream",
     "text": [
      "185 ns ± 1.37 ns per loop (mean ± std. dev. of 7 runs, 10,000,000 loops each)\n"
     ]
    }
   ],
   "source": [
    "%%timeit\n",
    "\n",
    "# using generator\n",
    "\n",
    "gen_squares(numbers)"
   ]
  },
  {
   "cell_type": "markdown",
   "id": "29338349",
   "metadata": {},
   "source": [
    "### send versus next\n",
    "\n",
    "- Technically, yield is now an expression form that returns the item passed to send , not a statement (though it can be called either way—as yield X , or A = (yield X) ). The expression must be enclosed in parentheses unless it’s the only item on the right side of the assignment statement. For example, X = yield Y is OK, as is X = (yield Y) + 42 .\n",
    "\n",
    "- When this extra protocol is used, values are sent into a generator G by calling G.send(value) . The generator’s code is then resumed, and the yield expression in the generator returns the value passed to send ."
   ]
  },
  {
   "cell_type": "code",
   "execution_count": 66,
   "id": "119ba642",
   "metadata": {},
   "outputs": [
    {
     "data": {
      "text/plain": [
       "0"
      ]
     },
     "execution_count": 66,
     "metadata": {},
     "output_type": "execute_result"
    }
   ],
   "source": [
    "def gen_2():\n",
    "    for i in range(7):\n",
    "        x = (yield i)\n",
    "        print(\"current x is : \",x)\n",
    "        \n",
    "my_gen2 = gen_2()\n",
    "\n",
    "next(my_gen2)"
   ]
  },
  {
   "cell_type": "code",
   "execution_count": 67,
   "id": "16157f77",
   "metadata": {},
   "outputs": [
    {
     "name": "stdout",
     "output_type": "stream",
     "text": [
      "current x is :  None\n"
     ]
    },
    {
     "data": {
      "text/plain": [
       "1"
      ]
     },
     "execution_count": 67,
     "metadata": {},
     "output_type": "execute_result"
    }
   ],
   "source": [
    "next(my_gen2)"
   ]
  },
  {
   "cell_type": "code",
   "execution_count": 68,
   "id": "42678f9e",
   "metadata": {},
   "outputs": [
    {
     "name": "stdout",
     "output_type": "stream",
     "text": [
      "current x is :  7777\n",
      "2\n"
     ]
    }
   ],
   "source": [
    "print(my_gen2.send(7777))"
   ]
  },
  {
   "cell_type": "code",
   "execution_count": 69,
   "id": "aebfc7e6",
   "metadata": {},
   "outputs": [
    {
     "name": "stdout",
     "output_type": "stream",
     "text": [
      "current x is :  99999\n",
      "3\n"
     ]
    }
   ],
   "source": [
    "print(my_gen2.send(99999))"
   ]
  },
  {
   "cell_type": "markdown",
   "id": "2e126f81",
   "metadata": {},
   "source": [
    "### Generator Expressions:\n",
    "like list comprehension"
   ]
  },
  {
   "cell_type": "code",
   "execution_count": 74,
   "id": "fff869a4",
   "metadata": {},
   "outputs": [
    {
     "data": {
      "text/plain": [
       "'PPPPP'"
      ]
     },
     "execution_count": 74,
     "metadata": {},
     "output_type": "execute_result"
    }
   ],
   "source": [
    "G = (char*5 for char in \"PYTHOON\")\n",
    "\n",
    "next(G)"
   ]
  },
  {
   "cell_type": "code",
   "execution_count": 75,
   "id": "9602d271",
   "metadata": {},
   "outputs": [
    {
     "data": {
      "text/plain": [
       "'YYYYY'"
      ]
     },
     "execution_count": 75,
     "metadata": {},
     "output_type": "execute_result"
    }
   ],
   "source": [
    "next(G)"
   ]
  },
  {
   "cell_type": "code",
   "execution_count": 76,
   "id": "09004851",
   "metadata": {},
   "outputs": [
    {
     "data": {
      "text/plain": [
       "['TTTTT', 'HHHHH', 'OOOOO', 'OOOOO', 'NNNNN']"
      ]
     },
     "execution_count": 76,
     "metadata": {},
     "output_type": "execute_result"
    }
   ],
   "source": [
    "list(G)  # starts at the next place to call which is T cahracter"
   ]
  },
  {
   "cell_type": "markdown",
   "id": "7d48543e",
   "metadata": {},
   "source": [
    "what we have done is equivalent to:\n",
    "a generator function that requires slightly more code, but as a multistatementfunction it will be able to code more logic and use more state information if needed"
   ]
  },
  {
   "cell_type": "code",
   "execution_count": 77,
   "id": "192d9177",
   "metadata": {},
   "outputs": [],
   "source": [
    "def times_four(s):\n",
    "    for i in s:\n",
    "        yield i*4"
   ]
  },
  {
   "cell_type": "code",
   "execution_count": 81,
   "id": "7c2941da",
   "metadata": {},
   "outputs": [
    {
     "name": "stdout",
     "output_type": "stream",
     "text": [
      "['DDDD', 'AAAA', 'TTTT', 'AAAA']\n"
     ]
    }
   ],
   "source": [
    "data_4 = times_four(\"DATA\")\n",
    "\n",
    "print(list(data_4))  # forced to show all items in the iterator"
   ]
  },
  {
   "cell_type": "code",
   "execution_count": 82,
   "id": "3a46ce00",
   "metadata": {},
   "outputs": [
    {
     "data": {
      "text/plain": [
       "'SSSS'"
      ]
     },
     "execution_count": 82,
     "metadata": {},
     "output_type": "execute_result"
    }
   ],
   "source": [
    "sc = times_four(\"SCIENTIST\")\n",
    "\n",
    "next(sc)\n"
   ]
  },
  {
   "cell_type": "code",
   "execution_count": 83,
   "id": "9e182d06",
   "metadata": {},
   "outputs": [
    {
     "name": "stdout",
     "output_type": "stream",
     "text": [
      "CCCC\n",
      "IIII\n",
      "EEEE\n",
      "NNNN\n"
     ]
    }
   ],
   "source": [
    "print(next(sc))\n",
    "print(next(sc))\n",
    "print(next(sc))\n",
    "print(next(sc))"
   ]
  },
  {
   "cell_type": "code",
   "execution_count": 84,
   "id": "73cebbe9",
   "metadata": {},
   "outputs": [
    {
     "data": {
      "text/plain": [
       "['TTTT', 'IIII', 'SSSS', 'TTTT']"
      ]
     },
     "execution_count": 84,
     "metadata": {},
     "output_type": "execute_result"
    }
   ],
   "source": [
    "list(sc)"
   ]
  },
  {
   "cell_type": "markdown",
   "id": "00e7afa9",
   "metadata": {},
   "source": [
    "- Both generator functions and generator expressions are their own iterators and thus support just one active iteration—unlike some built-in types, you can’t have multiple iterators of either positioned at different locations in the set of results.\n",
    "\n",
    "- using the prior section’s generator expression, a generator’s iterator is the generator itself\n",
    "\n",
    "- If you iterate over the results stream manually with multiple iterators, they will all point to the same position:"
   ]
  },
  {
   "cell_type": "code",
   "execution_count": 87,
   "id": "e24aa6c5",
   "metadata": {},
   "outputs": [
    {
     "data": {
      "text/plain": [
       "'D'"
      ]
     },
     "execution_count": 87,
     "metadata": {},
     "output_type": "execute_result"
    }
   ],
   "source": [
    "def iter_vs_gen(s):\n",
    "    for i in s:\n",
    "        yield i\n",
    "\n",
    "gen_1 = iter_vs_gen(\"DataMan\")\n",
    "\n",
    "I1 = iter(gen_1)\n",
    "\n",
    "next(I1)"
   ]
  },
  {
   "cell_type": "code",
   "execution_count": 88,
   "id": "85955c35",
   "metadata": {},
   "outputs": [
    {
     "data": {
      "text/plain": [
       "'a'"
      ]
     },
     "execution_count": 88,
     "metadata": {},
     "output_type": "execute_result"
    }
   ],
   "source": [
    "next(gen_1)"
   ]
  },
  {
   "cell_type": "code",
   "execution_count": 89,
   "id": "11296bce",
   "metadata": {},
   "outputs": [],
   "source": [
    "I2 = iter(gen_1)"
   ]
  },
  {
   "cell_type": "code",
   "execution_count": 90,
   "id": "f79ebbd4",
   "metadata": {},
   "outputs": [
    {
     "data": {
      "text/plain": [
       "'t'"
      ]
     },
     "execution_count": 90,
     "metadata": {},
     "output_type": "execute_result"
    }
   ],
   "source": [
    "next(I2)"
   ]
  },
  {
   "cell_type": "code",
   "execution_count": 91,
   "id": "8a94d11c",
   "metadata": {},
   "outputs": [
    {
     "data": {
      "text/plain": [
       "['a', 'M', 'a', 'n']"
      ]
     },
     "execution_count": 91,
     "metadata": {},
     "output_type": "execute_result"
    }
   ],
   "source": [
    "list(I2)"
   ]
  },
  {
   "cell_type": "markdown",
   "id": "82869f7c",
   "metadata": {},
   "source": [
    "#####  Moreover, once any iteration runs to completion, all are exhausted—we have to make a new generator to start again:"
   ]
  },
  {
   "cell_type": "code",
   "execution_count": 92,
   "id": "b72da87c",
   "metadata": {},
   "outputs": [
    {
     "ename": "StopIteration",
     "evalue": "",
     "output_type": "error",
     "traceback": [
      "\u001b[0;31m---------------------------------------------------------------------------\u001b[0m",
      "\u001b[0;31mStopIteration\u001b[0m                             Traceback (most recent call last)",
      "Input \u001b[0;32mIn [92]\u001b[0m, in \u001b[0;36m<cell line: 1>\u001b[0;34m()\u001b[0m\n\u001b[0;32m----> 1\u001b[0m \u001b[38;5;28;43mnext\u001b[39;49m\u001b[43m(\u001b[49m\u001b[43mI1\u001b[49m\u001b[43m)\u001b[49m\n",
      "\u001b[0;31mStopIteration\u001b[0m: "
     ]
    }
   ],
   "source": [
    "next(I1)"
   ]
  },
  {
   "cell_type": "code",
   "execution_count": null,
   "id": "dcfc083a",
   "metadata": {},
   "outputs": [],
   "source": []
  }
 ],
 "metadata": {
  "kernelspec": {
   "display_name": "Python 3 (ipykernel)",
   "language": "python",
   "name": "python3"
  },
  "language_info": {
   "codemirror_mode": {
    "name": "ipython",
    "version": 3
   },
   "file_extension": ".py",
   "mimetype": "text/x-python",
   "name": "python",
   "nbconvert_exporter": "python",
   "pygments_lexer": "ipython3",
   "version": "3.9.12"
  }
 },
 "nbformat": 4,
 "nbformat_minor": 5
}
