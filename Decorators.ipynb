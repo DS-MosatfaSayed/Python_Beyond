{
 "cells": [
  {
   "cell_type": "markdown",
   "id": "ee2f2e14",
   "metadata": {},
   "source": [
    "# Decorators\n",
    "\n",
    "- Decorator is a function that accepts another function as a parameter, add some functionality to it, and return the result \n",
    "\n",
    "- for example if we have 3 functions each perform a specific calculation and we want to make sure that:\n",
    "    - the given parameters to those functios are positive we can use on decorator to add this functionality to each  function of them\n",
    "    - the first number is greater than the second number"
   ]
  },
  {
   "cell_type": "code",
   "execution_count": 10,
   "id": "5a866c07",
   "metadata": {},
   "outputs": [
    {
     "name": "stdout",
     "output_type": "stream",
     "text": [
      "14\n",
      "20\n",
      "60\n",
      "1.0\n"
     ]
    }
   ],
   "source": [
    "def cal_sum(n1, n2):\n",
    "    return n1+n2\n",
    "\n",
    "def cal_diff(n1, n2):\n",
    "    return n1-n2\n",
    "\n",
    "def cal_product(n1, n2):\n",
    "    return n1 * n2\n",
    "\n",
    "def cal_qotient(n1, n2):\n",
    "    return n1 / n2\n",
    "\n",
    "\n",
    "print(cal_sum(8,6))\n",
    "print(cal_diff(70,50))\n",
    "print(cal_product(10,6))\n",
    "print(cal_qotient(6,6))"
   ]
  },
  {
   "cell_type": "code",
   "execution_count": 34,
   "id": "4e191565",
   "metadata": {},
   "outputs": [],
   "source": [
    "def my_decorator(func):\n",
    "    \n",
    "    def wrapper(num1, num2):\n",
    "        if num1 < num2:\n",
    "            print (\"Fisrt number has to be greater\")\n",
    "            \n",
    "        if num1 < 0 or num2 < 0 :\n",
    "            print (\"All numbers must be positive\")\n",
    "            \n",
    "        func(num1, num2)\n",
    "        \n",
    "    return "
   ]
  },
  {
   "cell_type": "markdown",
   "id": "ea89ffd4",
   "metadata": {},
   "source": [
    "if we call the decorator befor each function it will gain the functionality of our wrapper function \n",
    "\n",
    "to do so write @decorator_name befor the function defination"
   ]
  },
  {
   "cell_type": "code",
   "execution_count": 35,
   "id": "04538a4a",
   "metadata": {},
   "outputs": [],
   "source": [
    "@my_decorator \n",
    "def cal_sum(n1, n2):\n",
    "   return n1+n2"
   ]
  },
  {
   "cell_type": "code",
   "execution_count": 36,
   "id": "0c3656c8",
   "metadata": {},
   "outputs": [
    {
     "ename": "TypeError",
     "evalue": "'NoneType' object is not callable",
     "output_type": "error",
     "traceback": [
      "\u001b[0;31m---------------------------------------------------------------------------\u001b[0m",
      "\u001b[0;31mTypeError\u001b[0m                                 Traceback (most recent call last)",
      "Input \u001b[0;32mIn [36]\u001b[0m, in \u001b[0;36m<cell line: 1>\u001b[0;34m()\u001b[0m\n\u001b[0;32m----> 1\u001b[0m \u001b[38;5;28mprint\u001b[39m(\u001b[43mcal_sum\u001b[49m\u001b[43m(\u001b[49m\u001b[38;5;241;43m6\u001b[39;49m\u001b[43m,\u001b[49m\u001b[38;5;241;43m5\u001b[39;49m\u001b[43m)\u001b[49m)\n",
      "\u001b[0;31mTypeError\u001b[0m: 'NoneType' object is not callable"
     ]
    }
   ],
   "source": [
    "print(cal_sum(6,5))"
   ]
  },
  {
   "cell_type": "code",
   "execution_count": null,
   "id": "59ec2667",
   "metadata": {},
   "outputs": [],
   "source": []
  }
 ],
 "metadata": {
  "kernelspec": {
   "display_name": "Python 3 (ipykernel)",
   "language": "python",
   "name": "python3"
  },
  "language_info": {
   "codemirror_mode": {
    "name": "ipython",
    "version": 3
   },
   "file_extension": ".py",
   "mimetype": "text/x-python",
   "name": "python",
   "nbconvert_exporter": "python",
   "pygments_lexer": "ipython3",
   "version": "3.9.12"
  }
 },
 "nbformat": 4,
 "nbformat_minor": 5
}
