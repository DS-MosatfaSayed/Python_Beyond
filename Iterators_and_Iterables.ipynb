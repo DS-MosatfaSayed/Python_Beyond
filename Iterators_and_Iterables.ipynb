{
 "cells": [
  {
   "cell_type": "markdown",
   "id": "e56565fd",
   "metadata": {},
   "source": [
    "- Iterables are data structures that you can iterate over like (strings - list - Tuples - ...)\n",
    "- Iterators are objects that is like the Engineer who iterate over the iterable using next() method to get the next item untill there is no more items\n",
    "- iterators are generated from iterables using a methd iter() \n",
    "\n",
    "- this is how a for loop iterate over iterables like lists or strings it calls the built-in iter function to create the iterator and then use next() method to get the next item each iteration"
   ]
  },
  {
   "cell_type": "markdown",
   "id": "acbe2e49",
   "metadata": {},
   "source": [
    "we can not iterate on iterablees directly, if we do so an exception will raise, instead we have to create an iterator "
   ]
  },
  {
   "cell_type": "code",
   "execution_count": 2,
   "id": "647de149",
   "metadata": {},
   "outputs": [
    {
     "ename": "TypeError",
     "evalue": "'list' object is not an iterator",
     "output_type": "error",
     "traceback": [
      "\u001b[0;31m---------------------------------------------------------------------------\u001b[0m",
      "\u001b[0;31mTypeError\u001b[0m                                 Traceback (most recent call last)",
      "Input \u001b[0;32mIn [2]\u001b[0m, in \u001b[0;36m<cell line: 3>\u001b[0;34m()\u001b[0m\n\u001b[1;32m      1\u001b[0m l \u001b[38;5;241m=\u001b[39m [\u001b[38;5;241m1\u001b[39m,\u001b[38;5;241m2\u001b[39m,\u001b[38;5;241m3\u001b[39m,\u001b[38;5;241m4\u001b[39m,\u001b[38;5;241m5\u001b[39m]\n\u001b[0;32m----> 3\u001b[0m \u001b[38;5;28mprint\u001b[39m(\u001b[38;5;28;43mnext\u001b[39;49m\u001b[43m(\u001b[49m\u001b[43ml\u001b[49m\u001b[43m)\u001b[49m)\n",
      "\u001b[0;31mTypeError\u001b[0m: 'list' object is not an iterator"
     ]
    }
   ],
   "source": [
    "l = [1,2,3,4,5]\n",
    "\n",
    "print(next(l))"
   ]
  },
  {
   "cell_type": "code",
   "execution_count": 4,
   "id": "1f278e7d",
   "metadata": {},
   "outputs": [
    {
     "name": "stdout",
     "output_type": "stream",
     "text": [
      "1\n",
      "2\n",
      "3\n"
     ]
    }
   ],
   "source": [
    "l_iterator = iter(l)  #create iterator_obj from the list \n",
    "\n",
    "print(next(l_iterator))\n",
    "print(next(l_iterator))\n",
    "print(next(l_iterator))\n"
   ]
  },
  {
   "cell_type": "markdown",
   "id": "07fb51c6",
   "metadata": {},
   "source": [
    "we can implement for loop using the iter() and next() methods as follows"
   ]
  },
  {
   "cell_type": "code",
   "execution_count": 6,
   "id": "ca35f9c1",
   "metadata": {},
   "outputs": [
    {
     "name": "stdout",
     "output_type": "stream",
     "text": [
      "1\n",
      "2\n",
      "3\n",
      "3\n",
      "5\n",
      "6\n",
      "8\n",
      "8\n",
      "exception apeared, No more Items to iterate over\n",
      "the loop Wil Stop\n"
     ]
    }
   ],
   "source": [
    "sample_list = [1,2,3,3,5,6,8,8] \n",
    "\n",
    "list_iterator = iter(sample_list)\n",
    "\n",
    "while True:   # creating infinte loop \n",
    "    try:\n",
    "        \n",
    "        item = next(list_iterator)\n",
    "    \n",
    "        # here we can write any operations we want the loop to perform om the element\n",
    "        # now, we wil print each element\n",
    "        \n",
    "        print(item)\n",
    "        \n",
    "        \n",
    "    except StopIteration:\n",
    "        print(\"exception apeared, No more Items to iterate over\")\n",
    "        print (\"the loop Wil Stop\")\n",
    "        break   # the loop stops when the StopIteration exception appears\n",
    "        \n",
    "        \n",
    "    \n",
    "    \n",
    "    "
   ]
  },
  {
   "cell_type": "code",
   "execution_count": null,
   "id": "d81aab91",
   "metadata": {},
   "outputs": [],
   "source": []
  }
 ],
 "metadata": {
  "kernelspec": {
   "display_name": "Python 3 (ipykernel)",
   "language": "python",
   "name": "python3"
  },
  "language_info": {
   "codemirror_mode": {
    "name": "ipython",
    "version": 3
   },
   "file_extension": ".py",
   "mimetype": "text/x-python",
   "name": "python",
   "nbconvert_exporter": "python",
   "pygments_lexer": "ipython3",
   "version": "3.9.12"
  }
 },
 "nbformat": 4,
 "nbformat_minor": 5
}
